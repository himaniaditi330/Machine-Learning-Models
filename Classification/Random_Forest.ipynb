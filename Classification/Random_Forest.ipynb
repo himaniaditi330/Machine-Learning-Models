{
  "nbformat": 4,
  "nbformat_minor": 0,
  "metadata": {
    "colab": {
      "name": "Random_Forest.ipynb",
      "provenance": []
    },
    "kernelspec": {
      "name": "python3",
      "display_name": "Python 3"
    }
  },
  "cells": [
    {
      "cell_type": "code",
      "metadata": {
        "id": "LrCavlHMLfFT"
      },
      "source": [
        ""
      ],
      "execution_count": null,
      "outputs": []
    },
    {
      "cell_type": "code",
      "metadata": {
        "id": "9mr5UWxUXiUQ"
      },
      "source": [
        "import numpy as np # linear algebra\n",
        "import pandas as pd\n",
        "from sklearn.utils import shuffle\n",
        "from sklearn.model_selection import train_test_split\n",
        "\n",
        "from sklearn import metrics\n",
        "\n",
        "import logging,sys\n"
      ],
      "execution_count": 1,
      "outputs": []
    },
    {
      "cell_type": "code",
      "metadata": {
        "id": "QCjshc7uXiUQ"
      },
      "source": [
        "df = pd.read_csv(\"binary.csv\")\n",
        "\n"
      ],
      "execution_count": 2,
      "outputs": []
    },
    {
      "cell_type": "code",
      "metadata": {
        "colab": {
          "base_uri": "https://localhost:8080/"
        },
        "id": "04mm61IoXiUR",
        "outputId": "eb8a88ef-e87c-4ba8-fdf2-058fa72857d9"
      },
      "source": [
        "df[\"rank\"].describe()"
      ],
      "execution_count": 3,
      "outputs": [
        {
          "output_type": "execute_result",
          "data": {
            "text/plain": [
              "count    400.00000\n",
              "mean       2.48500\n",
              "std        0.94446\n",
              "min        1.00000\n",
              "25%        2.00000\n",
              "50%        2.00000\n",
              "75%        3.00000\n",
              "max        4.00000\n",
              "Name: rank, dtype: float64"
            ]
          },
          "metadata": {
            "tags": []
          },
          "execution_count": 3
        }
      ]
    },
    {
      "cell_type": "code",
      "metadata": {
        "colab": {
          "base_uri": "https://localhost:8080/",
          "height": 296
        },
        "id": "wK2l5AhRXiUU",
        "outputId": "36587b7f-9d2b-4ba9-b833-783317cc8139"
      },
      "source": [
        "import seaborn as sns\n",
        "sns.countplot(x=\"admit\",data=df)"
      ],
      "execution_count": 4,
      "outputs": [
        {
          "output_type": "execute_result",
          "data": {
            "text/plain": [
              "<matplotlib.axes._subplots.AxesSubplot at 0x7f131b5c48d0>"
            ]
          },
          "metadata": {
            "tags": []
          },
          "execution_count": 4
        },
        {
          "output_type": "display_data",
          "data": {
            "image/png": "[encoded data removed]",
            "text/plain": [
              "<Figure size 432x288 with 1 Axes>"
            ]
          },
          "metadata": {
            "tags": [],
            "needs_background": "light"
          }
        }
      ]
    },
    {
      "cell_type": "code",
      "metadata": {
        "colab": {
          "base_uri": "https://localhost:8080/",
          "height": 296
        },
        "id": "zd4eozaaXiUV",
        "outputId": "60bae110-d738-4d88-ab16-a34681cbfa2e"
      },
      "source": [
        "sns.countplot(x=\"rank\",data=df)"
      ],
      "execution_count": 5,
      "outputs": [
        {
          "output_type": "execute_result",
          "data": {
            "text/plain": [
              "<matplotlib.axes._subplots.AxesSubplot at 0x7f131b0475c0>"
            ]
          },
          "metadata": {
            "tags": []
          },
          "execution_count": 5
        },
        {
          "output_type": "display_data",
          "data": {
            "image/png": "[encoded data removed]",
            "text/plain": [
              "<Figure size 432x288 with 1 Axes>"
            ]
          },
          "metadata": {
            "tags": [],
            "needs_background": "light"
          }
        }
      ]
    },
    {
      "cell_type": "code",
      "metadata": {
        "colab": {
          "base_uri": "https://localhost:8080/"
        },
        "id": "63WtnYHXXiUW",
        "outputId": "3de5b7cd-e253-4529-af2b-74d3395adc74"
      },
      "source": [
        "df[\"rank\"].value_counts()"
      ],
      "execution_count": 6,
      "outputs": [
        {
          "output_type": "execute_result",
          "data": {
            "text/plain": [
              "2    151\n",
              "3    121\n",
              "4     67\n",
              "1     61\n",
              "Name: rank, dtype: int64"
            ]
          },
          "metadata": {
            "tags": []
          },
          "execution_count": 6
        }
      ]
    },
    {
      "cell_type": "code",
      "metadata": {
        "colab": {
          "base_uri": "https://localhost:8080/"
        },
        "id": "jtTEYunQXiUW",
        "outputId": "627bda44-a08d-4437-a7bb-35b9e6f59bbb"
      },
      "source": [
        "df[\"rank\"].unique()"
      ],
      "execution_count": 7,
      "outputs": [
        {
          "output_type": "execute_result",
          "data": {
            "text/plain": [
              "array([3, 1, 4, 2])"
            ]
          },
          "metadata": {
            "tags": []
          },
          "execution_count": 7
        }
      ]
    },
    {
      "cell_type": "code",
      "metadata": {
        "id": "YN0mPAQXXiUX"
      },
      "source": [
        "\n",
        "#Splitting independent data and targeted data as test and train\n",
        "X_train, X_test, Y_train, Y_test= train_test_split(df[[\"gpa\",\"gre\",\"rank\"]],\n",
        "                                                   df[[\"admit\"]],test_size=0.2,\n",
        "                                                   random_state=66)\n"
      ],
      "execution_count": 8,
      "outputs": []
    },
    {
      "cell_type": "code",
      "metadata": {
        "colab": {
          "base_uri": "https://localhost:8080/"
        },
        "id": "W8kUQg5uXiUX",
        "outputId": "6425463b-7960-4eea-fd77-5234d1fd137a"
      },
      "source": [
        "\n",
        "from sklearn.ensemble import RandomForestClassifier\n",
        "clf_entropy= RandomForestClassifier(n_estimators=200,criterion='entropy',min_samples_leaf=11, max_depth=4)\n",
        "\n",
        "clf_entropy.fit(X_train,Y_train)"
      ],
      "execution_count": 10,
      "outputs": [
        {
          "output_type": "stream",
          "text": [
            "/usr/local/lib/python3.6/dist-packages/ipykernel_launcher.py:5: DataConversionWarning: A column-vector y was passed when a 1d array was expected. Please change the shape of y to (n_samples,), for example using ravel().\n",
            "  \"\"\"\n"
          ],
          "name": "stderr"
        },
        {
          "output_type": "execute_result",
          "data": {
            "text/plain": [
              "RandomForestClassifier(bootstrap=True, ccp_alpha=0.0, class_weight=None,\n",
              "                       criterion='entropy', max_depth=4, max_features='auto',\n",
              "                       max_leaf_nodes=None, max_samples=None,\n",
              "                       min_impurity_decrease=0.0, min_impurity_split=None,\n",
              "                       min_samples_leaf=11, min_samples_split=2,\n",
              "                       min_weight_fraction_leaf=0.0, n_estimators=200,\n",
              "                       n_jobs=None, oob_score=False, random_state=None,\n",
              "                       verbose=0, warm_start=False)"
            ]
          },
          "metadata": {
            "tags": []
          },
          "execution_count": 10
        }
      ]
    },
    {
      "cell_type": "code",
      "metadata": {
        "id": "wlux1MBPXiUX"
      },
      "source": [
        "\n",
        "#predicting test data values for clf_entropy model\n",
        "predicted_entropy = clf_entropy.predict(X_test)"
      ],
      "execution_count": 11,
      "outputs": []
    },
    {
      "cell_type": "code",
      "metadata": {
        "colab": {
          "base_uri": "https://localhost:8080/"
        },
        "id": "8Lij9OT5XiUY",
        "outputId": "a3a7dee3-f577-4d11-b9a1-a05d83643c27"
      },
      "source": [
        "#Confusion Matrix\n",
        "from  sklearn.metrics import confusion_matrix \n",
        "cM = confusion_matrix(Y_test,predicted_entropy)\n",
        "print(cM)\n",
        "#generic matrix\n",
        "tp, fp, fn, tn = cM.ravel()\n",
        "recall = tp/(tp+fn)\n",
        "precision=tp/(tp+fp)\n",
        "print(\"Recall = Sensitivity = \",tp/(tp+fn))\n",
        "print(\"Specificity =\", tn/(tn+fp))\n",
        "print(\"Accuracy=\",(tp+tn)/(tp+tn+fp+fn))\n",
        "print(\"Precision=\",tp/(tp+fp))\n",
        "f1score= 2 *(recall*precision)/(precision+recall)\n",
        "print(\"f1 score=\", f1score)\n"
      ],
      "execution_count": 12,
      "outputs": [
        {
          "output_type": "stream",
          "text": [
            "[[57  3]\n",
            " [12  8]]\n",
            "Recall = Sensitivity =  0.8260869565217391\n",
            "Specificity = 0.7272727272727273\n",
            "Accuracy= 0.8125\n",
            "Precision= 0.95\n",
            "f1 score= 0.8837209302325583\n"
          ],
          "name": "stdout"
        }
      ]
    },
    {
      "cell_type": "code",
      "metadata": {
        "colab": {
          "base_uri": "https://localhost:8080/",
          "height": 534
        },
        "id": "gg9YW-_iXiUY",
        "outputId": "ba05aebe-1c5c-4dd6-b8d3-b7360deb8de0"
      },
      "source": [
        "from sklearn.tree import plot_tree\n",
        "plot_tree(clf_entropy.estimators_[100],filled=True) #for random forest only"
      ],
      "execution_count": 15,
      "outputs": [
        {
          "output_type": "execute_result",
          "data": {
            "text/plain": [
              "[Text(209.25000000000003, 195.696, 'X[2] <= 2.5\\nentropy = 0.91\\nsamples = 200\\nvalue = [216, 104]'),\n",
              " Text(139.5, 152.208, 'X[0] <= 3.93\\nentropy = 0.992\\nsamples = 110\\nvalue = [98, 79]'),\n",
              " Text(111.60000000000001, 108.72, 'X[0] <= 3.345\\nentropy = 0.966\\nsamples = 99\\nvalue = [98, 63]'),\n",
              " Text(55.800000000000004, 65.232, 'X[2] <= 1.5\\nentropy = 0.82\\nsamples = 52\\nvalue = [64, 22]'),\n",
              " Text(27.900000000000002, 21.744, 'entropy = 0.918\\nsamples = 17\\nvalue = [22, 11]'),\n",
              " Text(83.7, 21.744, 'entropy = 0.737\\nsamples = 35\\nvalue = [42, 11]'),\n",
              " Text(167.4, 65.232, 'X[1] <= 630.0\\nentropy = 0.994\\nsamples = 47\\nvalue = [34, 41]'),\n",
              " Text(139.5, 21.744, 'entropy = 0.89\\nsamples = 27\\nvalue = [12, 27]'),\n",
              " Text(195.3, 21.744, 'entropy = 0.964\\nsamples = 20\\nvalue = [22, 14]'),\n",
              " Text(167.4, 108.72, 'entropy = 0.0\\nsamples = 11\\nvalue = [0, 16]'),\n",
              " Text(279.0, 152.208, 'X[0] <= 3.49\\nentropy = 0.669\\nsamples = 90\\nvalue = [118, 25]'),\n",
              " Text(251.10000000000002, 108.72, 'X[1] <= 510.0\\nentropy = 0.426\\nsamples = 55\\nvalue = [84, 8]'),\n",
              " Text(223.20000000000002, 65.232, 'entropy = 0.0\\nsamples = 23\\nvalue = [39, 0]'),\n",
              " Text(279.0, 65.232, 'X[2] <= 3.5\\nentropy = 0.612\\nsamples = 32\\nvalue = [45, 8]'),\n",
              " Text(251.10000000000002, 21.744, 'entropy = 0.722\\nsamples = 20\\nvalue = [24, 6]'),\n",
              " Text(306.90000000000003, 21.744, 'entropy = 0.426\\nsamples = 12\\nvalue = [21, 2]'),\n",
              " Text(306.90000000000003, 108.72, 'entropy = 0.918\\nsamples = 35\\nvalue = [34, 17]')]"
            ]
          },
          "metadata": {
            "tags": []
          },
          "execution_count": 15
        },
        {
          "output_type": "display_data",
          "data": {
            "image/png": "[encoded data removed]",
            "text/plain": [
              "<Figure size 432x288 with 1 Axes>"
            ]
          },
          "metadata": {
            "tags": [],
            "needs_background": "light"
          }
        }
      ]
    },
    {
      "cell_type": "code",
      "metadata": {
        "id": "ooSOJVoQL2W6"
      },
      "source": [
        ""
      ],
      "execution_count": null,
      "outputs": []
    }
  ]
}