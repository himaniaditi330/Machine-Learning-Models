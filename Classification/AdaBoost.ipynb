{
  "nbformat": 4,
  "nbformat_minor": 0,
  "metadata": {
    "colab": {
      "name": "AdaBoost.ipynb",
      "provenance": []
    },
    "kernelspec": {
      "name": "python3",
      "display_name": "Python 3"
    }
  },
  "cells": [
    {
      "cell_type": "code",
      "metadata": {
        "id": "VrJBj9tvNUVJ"
      },
      "source": [
        ""
      ],
      "execution_count": null,
      "outputs": []
    },
    {
      "cell_type": "code",
      "metadata": {
        "id": "9mr5UWxUXiUQ"
      },
      "source": [
        "import numpy as np # linear algebra\n",
        "import pandas as pd\n",
        "from sklearn.utils import shuffle\n",
        "from sklearn.model_selection import train_test_split\n",
        "\n",
        "from sklearn import metrics\n",
        "\n",
        "import logging,sys\n"
      ],
      "execution_count": 2,
      "outputs": []
    },
    {
      "cell_type": "code",
      "metadata": {
        "id": "QCjshc7uXiUQ"
      },
      "source": [
        "df = pd.read_csv(\"binary.csv\")\n",
        "\n"
      ],
      "execution_count": 3,
      "outputs": []
    },
    {
      "cell_type": "code",
      "metadata": {
        "colab": {
          "base_uri": "https://localhost:8080/"
        },
        "id": "04mm61IoXiUR",
        "outputId": "33d6f9ad-8e1a-417e-8254-462ae17523be"
      },
      "source": [
        "df[\"rank\"].describe()"
      ],
      "execution_count": 4,
      "outputs": [
        {
          "output_type": "execute_result",
          "data": {
            "text/plain": [
              "count    400.00000\n",
              "mean       2.48500\n",
              "std        0.94446\n",
              "min        1.00000\n",
              "25%        2.00000\n",
              "50%        2.00000\n",
              "75%        3.00000\n",
              "max        4.00000\n",
              "Name: rank, dtype: float64"
            ]
          },
          "metadata": {
            "tags": []
          },
          "execution_count": 4
        }
      ]
    },
    {
      "cell_type": "code",
      "metadata": {
        "colab": {
          "base_uri": "https://localhost:8080/",
          "height": 296
        },
        "id": "wK2l5AhRXiUU",
        "outputId": "1616b475-55e4-495a-8bfc-fc8cf25fe925"
      },
      "source": [
        "import seaborn as sns\n",
        "sns.countplot(x=\"admit\",data=df)"
      ],
      "execution_count": 5,
      "outputs": [
        {
          "output_type": "execute_result",
          "data": {
            "text/plain": [
              "<matplotlib.axes._subplots.AxesSubplot at 0x7efc2494b0f0>"
            ]
          },
          "metadata": {
            "tags": []
          },
          "execution_count": 5
        },
        {
          "output_type": "display_data",
          "data": {
            "image/png": "[encoded data removed]",
            "text/plain": [
              "<Figure size 432x288 with 1 Axes>"
            ]
          },
          "metadata": {
            "tags": [],
            "needs_background": "light"
          }
        }
      ]
    },
    {
      "cell_type": "code",
      "metadata": {
        "colab": {
          "base_uri": "https://localhost:8080/",
          "height": 296
        },
        "id": "zd4eozaaXiUV",
        "outputId": "226a1b7d-6056-4773-e080-101bd951dc88"
      },
      "source": [
        "sns.countplot(x=\"rank\",data=df)"
      ],
      "execution_count": 6,
      "outputs": [
        {
          "output_type": "execute_result",
          "data": {
            "text/plain": [
              "<matplotlib.axes._subplots.AxesSubplot at 0x7efc241cd518>"
            ]
          },
          "metadata": {
            "tags": []
          },
          "execution_count": 6
        },
        {
          "output_type": "display_data",
          "data": {
            "image/png": "[encoded data removed]",
            "text/plain": [
              "<Figure size 432x288 with 1 Axes>"
            ]
          },
          "metadata": {
            "tags": [],
            "needs_background": "light"
          }
        }
      ]
    },
    {
      "cell_type": "code",
      "metadata": {
        "colab": {
          "base_uri": "https://localhost:8080/"
        },
        "id": "63WtnYHXXiUW",
        "outputId": "ffcdc2c1-3538-4159-9eec-c0dc7effc08c"
      },
      "source": [
        "df[\"rank\"].value_counts()"
      ],
      "execution_count": 7,
      "outputs": [
        {
          "output_type": "execute_result",
          "data": {
            "text/plain": [
              "2    151\n",
              "3    121\n",
              "4     67\n",
              "1     61\n",
              "Name: rank, dtype: int64"
            ]
          },
          "metadata": {
            "tags": []
          },
          "execution_count": 7
        }
      ]
    },
    {
      "cell_type": "code",
      "metadata": {
        "colab": {
          "base_uri": "https://localhost:8080/"
        },
        "id": "jtTEYunQXiUW",
        "outputId": "22615194-0006-41ae-d520-9b7aa31e313f"
      },
      "source": [
        "df[\"rank\"].unique()"
      ],
      "execution_count": 8,
      "outputs": [
        {
          "output_type": "execute_result",
          "data": {
            "text/plain": [
              "array([3, 1, 4, 2])"
            ]
          },
          "metadata": {
            "tags": []
          },
          "execution_count": 8
        }
      ]
    },
    {
      "cell_type": "code",
      "metadata": {
        "id": "YN0mPAQXXiUX"
      },
      "source": [
        "\n",
        "#Splitting independent data and targeted data as test and train\n",
        "X_train, X_test, Y_train, Y_test= train_test_split(df[[\"gpa\",\"gre\",\"rank\"]],\n",
        "                                                   df[[\"admit\"]],test_size=0.2,\n",
        "                                                   random_state=66)\n"
      ],
      "execution_count": 9,
      "outputs": []
    },
    {
      "cell_type": "code",
      "metadata": {
        "colab": {
          "base_uri": "https://localhost:8080/"
        },
        "id": "W8kUQg5uXiUX",
        "outputId": "41f9a8ea-f2ab-4665-a4d8-43db7726b62b"
      },
      "source": [
        "from sklearn.ensemble import AdaBoostClassifier\n",
        "clf_entropy = AdaBoostClassifier (n_estimators = 20)\n",
        "\n",
        "clf_entropy.fit(X_train,Y_train)"
      ],
      "execution_count": 10,
      "outputs": [
        {
          "output_type": "stream",
          "text": [
            "/usr/local/lib/python3.6/dist-packages/sklearn/utils/validation.py:760: DataConversionWarning: A column-vector y was passed when a 1d array was expected. Please change the shape of y to (n_samples, ), for example using ravel().\n",
            "  y = column_or_1d(y, warn=True)\n"
          ],
          "name": "stderr"
        },
        {
          "output_type": "execute_result",
          "data": {
            "text/plain": [
              "AdaBoostClassifier(algorithm='SAMME.R', base_estimator=None, learning_rate=1.0,\n",
              "                   n_estimators=20, random_state=None)"
            ]
          },
          "metadata": {
            "tags": []
          },
          "execution_count": 10
        }
      ]
    },
    {
      "cell_type": "code",
      "metadata": {
        "id": "wlux1MBPXiUX"
      },
      "source": [
        "\n",
        "#predicting test data values for clf_entropy model\n",
        "predicted_entropy = clf_entropy.predict(X_test)"
      ],
      "execution_count": 11,
      "outputs": []
    },
    {
      "cell_type": "code",
      "metadata": {
        "colab": {
          "base_uri": "https://localhost:8080/"
        },
        "id": "8Lij9OT5XiUY",
        "outputId": "5189dcbe-cb98-49a9-f6d9-ea205b0d4e85"
      },
      "source": [
        "#Confusion Matrix\n",
        "from  sklearn.metrics import confusion_matrix \n",
        "cM = confusion_matrix(Y_test,predicted_entropy)\n",
        "print(cM)\n",
        "#generic matrix\n",
        "tp, fp, fn, tn = cM.ravel()\n",
        "recall = tp/(tp+fn)\n",
        "precision=tp/(tp+fp)\n",
        "print(\"Recall = Sensitivity = \",tp/(tp+fn))\n",
        "print(\"Specificity =\", tn/(tn+fp))\n",
        "print(\"Accuracy=\",(tp+tn)/(tp+tn+fp+fn))\n",
        "print(\"Precision=\",tp/(tp+fp))\n",
        "f1score= 2 *(recall*precision)/(precision+recall)\n",
        "print(\"f1 score=\", f1score)\n"
      ],
      "execution_count": 12,
      "outputs": [
        {
          "output_type": "stream",
          "text": [
            "[[52  8]\n",
            " [10 10]]\n",
            "Recall = Sensitivity =  0.8387096774193549\n",
            "Specificity = 0.5555555555555556\n",
            "Accuracy= 0.775\n",
            "Precision= 0.8666666666666667\n",
            "f1 score= 0.8524590163934426\n"
          ],
          "name": "stdout"
        }
      ]
    },
    {
      "cell_type": "code",
      "metadata": {
        "colab": {
          "base_uri": "https://localhost:8080/"
        },
        "id": "3j8bLaEhWg9J",
        "outputId": "867c8128-4201-4261-816e-98b735a2e69b"
      },
      "source": [
        "clf_entropy.estimator_weights_"
      ],
      "execution_count": 13,
      "outputs": [
        {
          "output_type": "execute_result",
          "data": {
            "text/plain": [
              "array([1., 1., 1., 1., 1., 1., 1., 1., 1., 1., 1., 1., 1., 1., 1., 1., 1.,\n",
              "       1., 1., 1.])"
            ]
          },
          "metadata": {
            "tags": []
          },
          "execution_count": 13
        }
      ]
    },
    {
      "cell_type": "code",
      "metadata": {
        "id": "dn8KUAP1Wsuw",
        "colab": {
          "base_uri": "https://localhost:8080/"
        },
        "outputId": "5cfe9500-65a0-46b4-e76f-4c3e24d776e8"
      },
      "source": [
        "clf_entropy.estimator_errors_"
      ],
      "execution_count": 14,
      "outputs": [
        {
          "output_type": "execute_result",
          "data": {
            "text/plain": [
              "array([0.334375  , 0.39136438, 0.45869295, 0.4619066 , 0.44852552,\n",
              "       0.46547136, 0.46323337, 0.47694754, 0.47402706, 0.46591891,\n",
              "       0.45755907, 0.45686886, 0.48679653, 0.4866632 , 0.48683058,\n",
              "       0.48162898, 0.48989019, 0.48734242, 0.48829007, 0.49115514])"
            ]
          },
          "metadata": {
            "tags": []
          },
          "execution_count": 14
        }
      ]
    },
    {
      "cell_type": "code",
      "metadata": {
        "colab": {
          "base_uri": "https://localhost:8080/",
          "height": 298
        },
        "id": "gg9YW-_iXiUY",
        "outputId": "985a32e1-1063-4b47-a48a-ac3df9394369"
      },
      "source": [
        "from sklearn.tree import plot_tree\n",
        "plot_tree(clf_entropy.estimators_[10],filled=True) "
      ],
      "execution_count": 20,
      "outputs": [
        {
          "output_type": "execute_result",
          "data": {
            "text/plain": [
              "[Text(167.4, 163.07999999999998, 'X[0] <= 3.235\\ngini = 0.5\\nsamples = 320\\nvalue = [0.5, 0.5]'),\n",
              " Text(83.7, 54.360000000000014, 'gini = 0.493\\nsamples = 114\\nvalue = [0.153, 0.195]'),\n",
              " Text(251.10000000000002, 54.360000000000014, 'gini = 0.498\\nsamples = 206\\nvalue = [0.347, 0.305]')]"
            ]
          },
          "metadata": {
            "tags": []
          },
          "execution_count": 20
        },
        {
          "output_type": "display_data",
          "data": {
            "image/png": "[encoded data removed]",
            "text/plain": [
              "<Figure size 432x288 with 1 Axes>"
            ]
          },
          "metadata": {
            "tags": [],
            "needs_background": "light"
          }
        }
      ]
    },
    {
      "cell_type": "code",
      "metadata": {
        "id": "V71cINoKNk0Q"
      },
      "source": [
        ""
      ],
      "execution_count": null,
      "outputs": []
    }
  ]
}