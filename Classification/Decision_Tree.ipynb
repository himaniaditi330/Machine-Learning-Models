{
  "nbformat": 4,
  "nbformat_minor": 0,
  "metadata": {
    "colab": {
      "name": "Decision_Tree.ipynb",
      "provenance": [],
      "collapsed_sections": []
    },
    "kernelspec": {
      "name": "python3",
      "display_name": "Python 3"
    }
  },
  "cells": [
    {
      "cell_type": "code",
      "metadata": {
        "id": "9mr5UWxUXiUQ"
      },
      "source": [
        "import numpy as np # linear algebra\n",
        "import pandas as pd\n",
        "from sklearn.utils import shuffle\n",
        "from sklearn.model_selection import train_test_split\n",
        "\n",
        "from sklearn import metrics\n",
        "#from sklearn.linear_model import LogisticRegression\n",
        "import logging,sys\n"
      ],
      "execution_count": 1,
      "outputs": []
    },
    {
      "cell_type": "code",
      "metadata": {
        "id": "QCjshc7uXiUQ"
      },
      "source": [
        "df = pd.read_csv(\"binary.csv\")\n",
        "\n"
      ],
      "execution_count": 2,
      "outputs": []
    },
    {
      "cell_type": "code",
      "metadata": {
        "colab": {
          "base_uri": "https://localhost:8080/"
        },
        "id": "04mm61IoXiUR",
        "outputId": "7d54a84b-fcfa-4748-b530-8081b7823339"
      },
      "source": [
        "df[\"rank\"].describe()"
      ],
      "execution_count": 3,
      "outputs": [
        {
          "output_type": "execute_result",
          "data": {
            "text/plain": [
              "count    400.00000\n",
              "mean       2.48500\n",
              "std        0.94446\n",
              "min        1.00000\n",
              "25%        2.00000\n",
              "50%        2.00000\n",
              "75%        3.00000\n",
              "max        4.00000\n",
              "Name: rank, dtype: float64"
            ]
          },
          "metadata": {
            "tags": []
          },
          "execution_count": 3
        }
      ]
    },
    {
      "cell_type": "code",
      "metadata": {
        "colab": {
          "base_uri": "https://localhost:8080/",
          "height": 296
        },
        "id": "wK2l5AhRXiUU",
        "outputId": "19928132-7a2e-4821-9d0a-cfe5bee4f9d9"
      },
      "source": [
        "import seaborn as sns\n",
        "sns.countplot(x=\"admit\",data=df)"
      ],
      "execution_count": 4,
      "outputs": [
        {
          "output_type": "execute_result",
          "data": {
            "text/plain": [
              "<matplotlib.axes._subplots.AxesSubplot at 0x7f4325afb940>"
            ]
          },
          "metadata": {
            "tags": []
          },
          "execution_count": 4
        },
        {
          "output_type": "display_data",
          "data": {
            "image/png": "[encoded data removed]",
            "text/plain": [
              "<Figure size 432x288 with 1 Axes>"
            ]
          },
          "metadata": {
            "tags": [],
            "needs_background": "light"
          }
        }
      ]
    },
    {
      "cell_type": "code",
      "metadata": {
        "colab": {
          "base_uri": "https://localhost:8080/",
          "height": 296
        },
        "id": "zd4eozaaXiUV",
        "outputId": "7c8ae896-7e1c-4e49-e5bb-42d843398258"
      },
      "source": [
        "sns.countplot(x=\"rank\",data=df)"
      ],
      "execution_count": 5,
      "outputs": [
        {
          "output_type": "execute_result",
          "data": {
            "text/plain": [
              "<matplotlib.axes._subplots.AxesSubplot at 0x7f432557e6a0>"
            ]
          },
          "metadata": {
            "tags": []
          },
          "execution_count": 5
        },
        {
          "output_type": "display_data",
          "data": {
            "image/png": "[encoded data removed]",
            "text/plain": [
              "<Figure size 432x288 with 1 Axes>"
            ]
          },
          "metadata": {
            "tags": [],
            "needs_background": "light"
          }
        }
      ]
    },
    {
      "cell_type": "code",
      "metadata": {
        "colab": {
          "base_uri": "https://localhost:8080/"
        },
        "id": "63WtnYHXXiUW",
        "outputId": "9fb3cc83-3668-492a-f201-0f18b4bff35d"
      },
      "source": [
        "df[\"rank\"].value_counts()"
      ],
      "execution_count": 6,
      "outputs": [
        {
          "output_type": "execute_result",
          "data": {
            "text/plain": [
              "2    151\n",
              "3    121\n",
              "4     67\n",
              "1     61\n",
              "Name: rank, dtype: int64"
            ]
          },
          "metadata": {
            "tags": []
          },
          "execution_count": 6
        }
      ]
    },
    {
      "cell_type": "code",
      "metadata": {
        "colab": {
          "base_uri": "https://localhost:8080/"
        },
        "id": "jtTEYunQXiUW",
        "outputId": "4fad3207-2f84-42a5-97c6-f3c50e2a99db"
      },
      "source": [
        "df[\"rank\"].unique()"
      ],
      "execution_count": 7,
      "outputs": [
        {
          "output_type": "execute_result",
          "data": {
            "text/plain": [
              "array([3, 1, 4, 2])"
            ]
          },
          "metadata": {
            "tags": []
          },
          "execution_count": 7
        }
      ]
    },
    {
      "cell_type": "code",
      "metadata": {
        "id": "YN0mPAQXXiUX"
      },
      "source": [
        "\n",
        "#Splitting independent data and targeted data as test and train\n",
        "X_train, X_test, Y_train, Y_test= train_test_split(df[[\"gpa\",\"gre\",\"rank\"]],\n",
        "                                                   df[[\"admit\"]],test_size=0.2,\n",
        "                                                   random_state=66)\n"
      ],
      "execution_count": 8,
      "outputs": []
    },
    {
      "cell_type": "code",
      "metadata": {
        "colab": {
          "base_uri": "https://localhost:8080/"
        },
        "id": "W8kUQg5uXiUX",
        "outputId": "5949c21e-6f62-4a0c-8f7e-2fe56bf590db"
      },
      "source": [
        "\n",
        "from sklearn.tree import DecisionTreeClassifier\n",
        "clf_entropy=DecisionTreeClassifier(criterion='entropy', min_samples_leaf=2, max_depth=10) #gini\n",
        "\n",
        "clf_entropy.fit(X_train,Y_train)"
      ],
      "execution_count": 13,
      "outputs": [
        {
          "output_type": "execute_result",
          "data": {
            "text/plain": [
              "DecisionTreeClassifier(ccp_alpha=0.0, class_weight=None, criterion='entropy',\n",
              "                       max_depth=10, max_features=None, max_leaf_nodes=None,\n",
              "                       min_impurity_decrease=0.0, min_impurity_split=None,\n",
              "                       min_samples_leaf=2, min_samples_split=2,\n",
              "                       min_weight_fraction_leaf=0.0, presort='deprecated',\n",
              "                       random_state=None, splitter='best')"
            ]
          },
          "metadata": {
            "tags": []
          },
          "execution_count": 13
        }
      ]
    },
    {
      "cell_type": "code",
      "metadata": {
        "id": "wlux1MBPXiUX"
      },
      "source": [
        "\n",
        "#predicting test data values for clf_entropy model\n",
        "predicted_entropy = clf_entropy.predict(X_test)"
      ],
      "execution_count": 14,
      "outputs": []
    },
    {
      "cell_type": "code",
      "metadata": {
        "colab": {
          "base_uri": "https://localhost:8080/"
        },
        "id": "8Lij9OT5XiUY",
        "outputId": "21abc2ac-17cf-451b-cd2e-84d0fa585837"
      },
      "source": [
        "#Confusion Matrix\n",
        "from  sklearn.metrics import confusion_matrix \n",
        "cM = confusion_matrix(Y_test,predicted_entropy)\n",
        "print(cM)\n",
        "#generic matrix\n",
        "tp, fp, fn, tn = cM.ravel()\n",
        "recall = tp/(tp+fn)\n",
        "precision=tp/(tp+fp)\n",
        "print(\"Recall = Sensitivity = \",tp/(tp+fn))\n",
        "print(\"Specificity =\", tn/(tn+fp))\n",
        "print(\"Accuracy=\",(tp+tn)/(tp+tn+fp+fn))\n",
        "print(\"Precision=\",tp/(tp+fp))\n",
        "f1score= 2 *(recall*precision)/(precision+recall)\n",
        "print(\"f1 score=\", f1score)\n"
      ],
      "execution_count": 15,
      "outputs": [
        {
          "output_type": "stream",
          "text": [
            "[[48 12]\n",
            " [13  7]]\n",
            "Recall = Sensitivity =  0.7868852459016393\n",
            "Specificity = 0.3684210526315789\n",
            "Accuracy= 0.6875\n",
            "Precision= 0.8\n",
            "f1 score= 0.7933884297520661\n"
          ],
          "name": "stdout"
        }
      ]
    },
    {
      "cell_type": "code",
      "metadata": {
        "colab": {
          "base_uri": "https://localhost:8080/",
          "height": 1000
        },
        "id": "gg9YW-_iXiUY",
        "outputId": "60302479-7a93-405d-dcc0-ffc4904ca6e9"
      },
      "source": [
        "from sklearn.tree import plot_tree\n",
        "plot_tree(clf_entropy,filled=True)  # for decision tree only"
      ],
      "execution_count": 19,
      "outputs": [
        {
          "output_type": "execute_result",
          "data": {
            "text/plain": [
              "[Text(122.68125, 207.55636363636364, 'X[0] <= 3.355\\nentropy = 0.919\\nsamples = 320\\nvalue = [213, 107]'),\n",
              " Text(59.4, 187.7890909090909, 'X[1] <= 570.0\\nentropy = 0.772\\nsamples = 150\\nvalue = [116, 34]'),\n",
              " Text(19.8, 168.0218181818182, 'X[2] <= 2.5\\nentropy = 0.604\\nsamples = 88\\nvalue = [75, 13]'),\n",
              " Text(7.2, 148.25454545454545, 'X[1] <= 350.0\\nentropy = 0.779\\nsamples = 39\\nvalue = [30, 9]'),\n",
              " Text(3.6, 128.48727272727274, 'entropy = 0.918\\nsamples = 3\\nvalue = [1, 2]'),\n",
              " Text(10.8, 128.48727272727274, 'X[1] <= 470.0\\nentropy = 0.711\\nsamples = 36\\nvalue = [29, 7]'),\n",
              " Text(7.2, 108.72, 'entropy = 0.0\\nsamples = 12\\nvalue = [12, 0]'),\n",
              " Text(14.4, 108.72, 'X[1] <= 510.0\\nentropy = 0.871\\nsamples = 24\\nvalue = [17, 7]'),\n",
              " Text(7.2, 88.95272727272729, 'X[0] <= 2.645\\nentropy = 0.863\\nsamples = 7\\nvalue = [2, 5]'),\n",
              " Text(3.6, 69.18545454545455, 'entropy = 1.0\\nsamples = 2\\nvalue = [1, 1]'),\n",
              " Text(10.8, 69.18545454545455, 'X[0] <= 3.075\\nentropy = 0.722\\nsamples = 5\\nvalue = [1, 4]'),\n",
              " Text(7.2, 49.418181818181836, 'entropy = 0.0\\nsamples = 3\\nvalue = [0, 3]'),\n",
              " Text(14.4, 49.418181818181836, 'entropy = 1.0\\nsamples = 2\\nvalue = [1, 1]'),\n",
              " Text(21.6, 88.95272727272729, 'X[0] <= 3.165\\nentropy = 0.523\\nsamples = 17\\nvalue = [15, 2]'),\n",
              " Text(18.0, 69.18545454545455, 'entropy = 0.0\\nsamples = 11\\nvalue = [11, 0]'),\n",
              " Text(25.2, 69.18545454545455, 'X[2] <= 1.5\\nentropy = 0.918\\nsamples = 6\\nvalue = [4, 2]'),\n",
              " Text(21.6, 49.418181818181836, 'X[0] <= 3.24\\nentropy = 0.811\\nsamples = 4\\nvalue = [3, 1]'),\n",
              " Text(18.0, 29.650909090909096, 'entropy = 1.0\\nsamples = 2\\nvalue = [1, 1]'),\n",
              " Text(25.2, 29.650909090909096, 'entropy = 0.0\\nsamples = 2\\nvalue = [2, 0]'),\n",
              " Text(28.8, 49.418181818181836, 'entropy = 1.0\\nsamples = 2\\nvalue = [1, 1]'),\n",
              " Text(32.4, 148.25454545454545, 'X[0] <= 2.69\\nentropy = 0.408\\nsamples = 49\\nvalue = [45, 4]'),\n",
              " Text(25.2, 128.48727272727274, 'X[1] <= 470.0\\nentropy = 0.971\\nsamples = 5\\nvalue = [3, 2]'),\n",
              " Text(21.6, 108.72, 'entropy = 0.0\\nsamples = 3\\nvalue = [3, 0]'),\n",
              " Text(28.8, 108.72, 'entropy = 0.0\\nsamples = 2\\nvalue = [0, 2]'),\n",
              " Text(39.6, 128.48727272727274, 'X[0] <= 3.18\\nentropy = 0.267\\nsamples = 44\\nvalue = [42, 2]'),\n",
              " Text(36.0, 108.72, 'entropy = 0.0\\nsamples = 28\\nvalue = [28, 0]'),\n",
              " Text(43.2, 108.72, 'X[0] <= 3.235\\nentropy = 0.544\\nsamples = 16\\nvalue = [14, 2]'),\n",
              " Text(39.6, 88.95272727272729, 'entropy = 0.918\\nsamples = 3\\nvalue = [1, 2]'),\n",
              " Text(46.800000000000004, 88.95272727272729, 'entropy = 0.0\\nsamples = 13\\nvalue = [13, 0]'),\n",
              " Text(99.0, 168.0218181818182, 'X[0] <= 3.275\\nentropy = 0.924\\nsamples = 62\\nvalue = [41, 21]'),\n",
              " Text(79.2, 148.25454545454545, 'X[0] <= 3.1\\nentropy = 0.982\\nsamples = 45\\nvalue = [26, 19]'),\n",
              " Text(61.2, 128.48727272727274, 'X[0] <= 3.01\\nentropy = 0.943\\nsamples = 25\\nvalue = [16, 9]'),\n",
              " Text(57.6, 108.72, 'X[0] <= 2.95\\nentropy = 1.0\\nsamples = 18\\nvalue = [9, 9]'),\n",
              " Text(54.0, 88.95272727272729, 'X[2] <= 1.5\\nentropy = 0.94\\nsamples = 14\\nvalue = [9, 5]'),\n",
              " Text(50.4, 69.18545454545455, 'entropy = 0.0\\nsamples = 2\\nvalue = [0, 2]'),\n",
              " Text(57.6, 69.18545454545455, 'X[0] <= 2.855\\nentropy = 0.811\\nsamples = 12\\nvalue = [9, 3]'),\n",
              " Text(54.0, 49.418181818181836, 'entropy = 0.0\\nsamples = 4\\nvalue = [4, 0]'),\n",
              " Text(61.2, 49.418181818181836, 'X[1] <= 680.0\\nentropy = 0.954\\nsamples = 8\\nvalue = [5, 3]'),\n",
              " Text(57.6, 29.650909090909096, 'X[2] <= 2.5\\nentropy = 0.971\\nsamples = 5\\nvalue = [2, 3]'),\n",
              " Text(54.0, 9.883636363636384, 'entropy = 0.918\\nsamples = 3\\nvalue = [2, 1]'),\n",
              " Text(61.2, 9.883636363636384, 'entropy = 0.0\\nsamples = 2\\nvalue = [0, 2]'),\n",
              " Text(64.8, 29.650909090909096, 'entropy = 0.0\\nsamples = 3\\nvalue = [3, 0]'),\n",
              " Text(61.2, 88.95272727272729, 'entropy = 0.0\\nsamples = 4\\nvalue = [0, 4]'),\n",
              " Text(64.8, 108.72, 'entropy = 0.0\\nsamples = 7\\nvalue = [7, 0]'),\n",
              " Text(97.2, 128.48727272727274, 'X[2] <= 3.5\\nentropy = 1.0\\nsamples = 20\\nvalue = [10, 10]'),\n",
              " Text(90.0, 108.72, 'X[2] <= 2.5\\nentropy = 0.989\\nsamples = 16\\nvalue = [7, 9]'),\n",
              " Text(86.4, 88.95272727272729, 'X[0] <= 3.21\\nentropy = 1.0\\nsamples = 14\\nvalue = [7, 7]'),\n",
              " Text(79.2, 69.18545454545455, 'X[0] <= 3.175\\nentropy = 0.954\\nsamples = 8\\nvalue = [3, 5]'),\n",
              " Text(75.60000000000001, 49.418181818181836, 'X[0] <= 3.145\\nentropy = 1.0\\nsamples = 6\\nvalue = [3, 3]'),\n",
              " Text(72.0, 29.650909090909096, 'entropy = 0.918\\nsamples = 3\\nvalue = [2, 1]'),\n",
              " Text(79.2, 29.650909090909096, 'entropy = 0.918\\nsamples = 3\\nvalue = [1, 2]'),\n",
              " Text(82.8, 49.418181818181836, 'entropy = 0.0\\nsamples = 2\\nvalue = [0, 2]'),\n",
              " Text(93.60000000000001, 69.18545454545455, 'X[1] <= 650.0\\nentropy = 0.918\\nsamples = 6\\nvalue = [4, 2]'),\n",
              " Text(90.0, 49.418181818181836, 'entropy = 0.0\\nsamples = 3\\nvalue = [3, 0]'),\n",
              " Text(97.2, 49.418181818181836, 'entropy = 0.918\\nsamples = 3\\nvalue = [1, 2]'),\n",
              " Text(93.60000000000001, 88.95272727272729, 'entropy = 0.0\\nsamples = 2\\nvalue = [0, 2]'),\n",
              " Text(104.4, 108.72, 'X[1] <= 660.0\\nentropy = 0.811\\nsamples = 4\\nvalue = [3, 1]'),\n",
              " Text(100.8, 88.95272727272729, 'entropy = 1.0\\nsamples = 2\\nvalue = [1, 1]'),\n",
              " Text(108.0, 88.95272727272729, 'entropy = 0.0\\nsamples = 2\\nvalue = [2, 0]'),\n",
              " Text(118.8, 148.25454545454545, 'X[0] <= 3.315\\nentropy = 0.523\\nsamples = 17\\nvalue = [15, 2]'),\n",
              " Text(115.2, 128.48727272727274, 'entropy = 0.0\\nsamples = 7\\nvalue = [7, 0]'),\n",
              " Text(122.4, 128.48727272727274, 'X[2] <= 2.5\\nentropy = 0.722\\nsamples = 10\\nvalue = [8, 2]'),\n",
              " Text(118.8, 108.72, 'X[1] <= 590.0\\nentropy = 0.918\\nsamples = 6\\nvalue = [4, 2]'),\n",
              " Text(115.2, 88.95272727272729, 'entropy = 1.0\\nsamples = 2\\nvalue = [1, 1]'),\n",
              " Text(122.4, 88.95272727272729, 'X[0] <= 3.34\\nentropy = 0.811\\nsamples = 4\\nvalue = [3, 1]'),\n",
              " Text(118.8, 69.18545454545455, 'entropy = 0.0\\nsamples = 2\\nvalue = [2, 0]'),\n",
              " Text(126.0, 69.18545454545455, 'entropy = 1.0\\nsamples = 2\\nvalue = [1, 1]'),\n",
              " Text(126.0, 108.72, 'entropy = 0.0\\nsamples = 4\\nvalue = [4, 0]'),\n",
              " Text(185.9625, 187.7890909090909, 'X[2] <= 1.5\\nentropy = 0.986\\nsamples = 170\\nvalue = [97, 73]'),\n",
              " Text(140.4, 168.0218181818182, 'X[1] <= 570.0\\nentropy = 0.738\\nsamples = 24\\nvalue = [5, 19]'),\n",
              " Text(136.8, 148.25454545454545, 'entropy = 0.0\\nsamples = 6\\nvalue = [0, 6]'),\n",
              " Text(144.0, 148.25454545454545, 'X[0] <= 3.665\\nentropy = 0.852\\nsamples = 18\\nvalue = [5, 13]'),\n",
              " Text(136.8, 128.48727272727274, 'X[1] <= 730.0\\nentropy = 0.544\\nsamples = 8\\nvalue = [1, 7]'),\n",
              " Text(133.20000000000002, 108.72, 'entropy = 0.0\\nsamples = 6\\nvalue = [0, 6]'),\n",
              " Text(140.4, 108.72, 'entropy = 1.0\\nsamples = 2\\nvalue = [1, 1]'),\n",
              " Text(151.20000000000002, 128.48727272727274, 'X[0] <= 3.735\\nentropy = 0.971\\nsamples = 10\\nvalue = [4, 6]'),\n",
              " Text(147.6, 108.72, 'entropy = 0.0\\nsamples = 2\\nvalue = [2, 0]'),\n",
              " Text(154.8, 108.72, 'X[1] <= 730.0\\nentropy = 0.811\\nsamples = 8\\nvalue = [2, 6]'),\n",
              " Text(151.20000000000002, 88.95272727272729, 'X[1] <= 680.0\\nentropy = 0.971\\nsamples = 5\\nvalue = [2, 3]'),\n",
              " Text(147.6, 69.18545454545455, 'entropy = 1.0\\nsamples = 2\\nvalue = [1, 1]'),\n",
              " Text(154.8, 69.18545454545455, 'entropy = 0.918\\nsamples = 3\\nvalue = [1, 2]'),\n",
              " Text(158.4, 88.95272727272729, 'entropy = 0.0\\nsamples = 3\\nvalue = [0, 3]'),\n",
              " Text(231.525, 168.0218181818182, 'X[1] <= 430.0\\nentropy = 0.951\\nsamples = 146\\nvalue = [92, 54]'),\n",
              " Text(227.925, 148.25454545454545, 'entropy = 0.0\\nsamples = 6\\nvalue = [6, 0]'),\n",
              " Text(235.125, 148.25454545454545, 'X[1] <= 450.0\\nentropy = 0.962\\nsamples = 140\\nvalue = [86, 54]'),\n",
              " Text(231.525, 128.48727272727274, 'entropy = 0.0\\nsamples = 2\\nvalue = [0, 2]'),\n",
              " Text(238.725, 128.48727272727274, 'X[1] <= 650.0\\nentropy = 0.956\\nsamples = 138\\nvalue = [86, 52]'),\n",
              " Text(193.95000000000002, 108.72, 'X[1] <= 570.0\\nentropy = 0.9\\nsamples = 79\\nvalue = [54, 25]'),\n",
              " Text(173.70000000000002, 88.95272727272729, 'X[0] <= 3.445\\nentropy = 0.982\\nsamples = 38\\nvalue = [22, 16]'),\n",
              " Text(162.0, 69.18545454545455, 'X[0] <= 3.395\\nentropy = 0.544\\nsamples = 8\\nvalue = [7, 1]'),\n",
              " Text(158.4, 49.418181818181836, 'X[2] <= 3.5\\nentropy = 0.811\\nsamples = 4\\nvalue = [3, 1]'),\n",
              " Text(154.8, 29.650909090909096, 'entropy = 1.0\\nsamples = 2\\nvalue = [1, 1]'),\n",
              " Text(162.0, 29.650909090909096, 'entropy = 0.0\\nsamples = 2\\nvalue = [2, 0]'),\n",
              " Text(165.6, 49.418181818181836, 'entropy = 0.0\\nsamples = 4\\nvalue = [4, 0]'),\n",
              " Text(185.4, 69.18545454545455, 'X[0] <= 3.86\\nentropy = 1.0\\nsamples = 30\\nvalue = [15, 15]'),\n",
              " Text(176.4, 49.418181818181836, 'X[0] <= 3.625\\nentropy = 0.98\\nsamples = 24\\nvalue = [10, 14]'),\n",
              " Text(169.20000000000002, 29.650909090909096, 'X[0] <= 3.495\\nentropy = 0.98\\nsamples = 12\\nvalue = [7, 5]'),\n",
              " Text(165.6, 9.883636363636384, 'entropy = 0.811\\nsamples = 4\\nvalue = [1, 3]'),\n",
              " Text(172.8, 9.883636363636384, 'entropy = 0.811\\nsamples = 8\\nvalue = [6, 2]'),\n",
              " Text(183.6, 29.650909090909096, 'X[0] <= 3.755\\nentropy = 0.811\\nsamples = 12\\nvalue = [3, 9]'),\n",
              " Text(180.0, 9.883636363636384, 'entropy = 0.0\\nsamples = 6\\nvalue = [0, 6]'),\n",
              " Text(187.20000000000002, 9.883636363636384, 'entropy = 1.0\\nsamples = 6\\nvalue = [3, 3]'),\n",
              " Text(194.4, 49.418181818181836, 'X[2] <= 2.5\\nentropy = 0.65\\nsamples = 6\\nvalue = [5, 1]'),\n",
              " Text(190.8, 29.650909090909096, 'entropy = 1.0\\nsamples = 2\\nvalue = [1, 1]'),\n",
              " Text(198.0, 29.650909090909096, 'entropy = 0.0\\nsamples = 4\\nvalue = [4, 0]'),\n",
              " Text(214.20000000000002, 88.95272727272729, 'X[1] <= 590.0\\nentropy = 0.759\\nsamples = 41\\nvalue = [32, 9]'),\n",
              " Text(210.6, 69.18545454545455, 'entropy = 0.0\\nsamples = 8\\nvalue = [8, 0]'),\n",
              " Text(217.8, 69.18545454545455, 'X[0] <= 3.475\\nentropy = 0.845\\nsamples = 33\\nvalue = [24, 9]'),\n",
              " Text(208.8, 49.418181818181836, 'X[0] <= 3.44\\nentropy = 1.0\\nsamples = 8\\nvalue = [4, 4]'),\n",
              " Text(205.20000000000002, 29.650909090909096, 'X[0] <= 3.39\\nentropy = 0.918\\nsamples = 6\\nvalue = [4, 2]'),\n",
              " Text(201.6, 9.883636363636384, 'entropy = 0.918\\nsamples = 3\\nvalue = [1, 2]'),\n",
              " Text(208.8, 9.883636363636384, 'entropy = 0.0\\nsamples = 3\\nvalue = [3, 0]'),\n",
              " Text(212.4, 29.650909090909096, 'entropy = 0.0\\nsamples = 2\\nvalue = [0, 2]'),\n",
              " Text(226.8, 49.418181818181836, 'X[0] <= 3.915\\nentropy = 0.722\\nsamples = 25\\nvalue = [20, 5]'),\n",
              " Text(219.6, 29.650909090909096, 'X[1] <= 610.0\\nentropy = 0.503\\nsamples = 18\\nvalue = [16, 2]'),\n",
              " Text(216.0, 9.883636363636384, 'entropy = 0.863\\nsamples = 7\\nvalue = [5, 2]'),\n",
              " Text(223.20000000000002, 9.883636363636384, 'entropy = 0.0\\nsamples = 11\\nvalue = [11, 0]'),\n",
              " Text(234.0, 29.650909090909096, 'X[0] <= 3.97\\nentropy = 0.985\\nsamples = 7\\nvalue = [4, 3]'),\n",
              " Text(230.4, 9.883636363636384, 'entropy = 0.811\\nsamples = 4\\nvalue = [1, 3]'),\n",
              " Text(237.6, 9.883636363636384, 'entropy = 0.0\\nsamples = 3\\nvalue = [3, 0]'),\n",
              " Text(283.5, 108.72, 'X[1] <= 690.0\\nentropy = 0.995\\nsamples = 59\\nvalue = [32, 27]'),\n",
              " Text(262.8, 88.95272727272729, 'X[0] <= 3.595\\nentropy = 0.946\\nsamples = 22\\nvalue = [8, 14]'),\n",
              " Text(252.0, 69.18545454545455, 'X[0] <= 3.475\\nentropy = 1.0\\nsamples = 8\\nvalue = [4, 4]'),\n",
              " Text(244.8, 49.418181818181836, 'X[0] <= 3.455\\nentropy = 0.811\\nsamples = 4\\nvalue = [1, 3]'),\n",
              " Text(241.20000000000002, 29.650909090909096, 'entropy = 1.0\\nsamples = 2\\nvalue = [1, 1]'),\n",
              " Text(248.4, 29.650909090909096, 'entropy = 0.0\\nsamples = 2\\nvalue = [0, 2]'),\n",
              " Text(259.2, 49.418181818181836, 'X[2] <= 2.5\\nentropy = 0.811\\nsamples = 4\\nvalue = [3, 1]'),\n",
              " Text(255.6, 29.650909090909096, 'entropy = 1.0\\nsamples = 2\\nvalue = [1, 1]'),\n",
              " Text(262.8, 29.650909090909096, 'entropy = 0.0\\nsamples = 2\\nvalue = [2, 0]'),\n",
              " Text(273.6, 69.18545454545455, 'X[0] <= 3.635\\nentropy = 0.863\\nsamples = 14\\nvalue = [4, 10]'),\n",
              " Text(270.0, 49.418181818181836, 'entropy = 0.0\\nsamples = 2\\nvalue = [0, 2]'),\n",
              " Text(277.2, 49.418181818181836, 'X[0] <= 3.685\\nentropy = 0.918\\nsamples = 12\\nvalue = [4, 8]'),\n",
              " Text(270.0, 29.650909090909096, 'X[2] <= 2.5\\nentropy = 1.0\\nsamples = 4\\nvalue = [2, 2]'),\n",
              " Text(266.40000000000003, 9.883636363636384, 'entropy = 1.0\\nsamples = 2\\nvalue = [1, 1]'),\n",
              " Text(273.6, 9.883636363636384, 'entropy = 1.0\\nsamples = 2\\nvalue = [1, 1]'),\n",
              " Text(284.40000000000003, 29.650909090909096, 'X[0] <= 3.91\\nentropy = 0.811\\nsamples = 8\\nvalue = [2, 6]'),\n",
              " Text(280.8, 9.883636363636384, 'entropy = 0.0\\nsamples = 4\\nvalue = [0, 4]'),\n",
              " Text(288.0, 9.883636363636384, 'entropy = 1.0\\nsamples = 4\\nvalue = [2, 2]'),\n",
              " Text(304.2, 88.95272727272729, 'X[0] <= 3.64\\nentropy = 0.935\\nsamples = 37\\nvalue = [24, 13]'),\n",
              " Text(291.6, 69.18545454545455, 'X[2] <= 2.5\\nentropy = 0.996\\nsamples = 13\\nvalue = [6, 7]'),\n",
              " Text(288.0, 49.418181818181836, 'entropy = 0.0\\nsamples = 3\\nvalue = [0, 3]'),\n",
              " Text(295.2, 49.418181818181836, 'X[0] <= 3.485\\nentropy = 0.971\\nsamples = 10\\nvalue = [6, 4]'),\n",
              " Text(291.6, 29.650909090909096, 'entropy = 0.0\\nsamples = 4\\nvalue = [4, 0]'),\n",
              " Text(298.8, 29.650909090909096, 'X[0] <= 3.53\\nentropy = 0.918\\nsamples = 6\\nvalue = [2, 4]'),\n",
              " Text(295.2, 9.883636363636384, 'entropy = 0.0\\nsamples = 3\\nvalue = [0, 3]'),\n",
              " Text(302.40000000000003, 9.883636363636384, 'entropy = 0.918\\nsamples = 3\\nvalue = [2, 1]'),\n",
              " Text(316.8, 69.18545454545455, 'X[1] <= 730.0\\nentropy = 0.811\\nsamples = 24\\nvalue = [18, 6]'),\n",
              " Text(313.2, 49.418181818181836, 'entropy = 0.0\\nsamples = 11\\nvalue = [11, 0]'),\n",
              " Text(320.40000000000003, 49.418181818181836, 'X[0] <= 3.955\\nentropy = 0.996\\nsamples = 13\\nvalue = [7, 6]'),\n",
              " Text(313.2, 29.650909090909096, 'X[1] <= 790.0\\nentropy = 0.811\\nsamples = 8\\nvalue = [6, 2]'),\n",
              " Text(309.6, 9.883636363636384, 'entropy = 1.0\\nsamples = 4\\nvalue = [2, 2]'),\n",
              " Text(316.8, 9.883636363636384, 'entropy = 0.0\\nsamples = 4\\nvalue = [4, 0]'),\n",
              " Text(327.6, 29.650909090909096, 'X[1] <= 770.0\\nentropy = 0.722\\nsamples = 5\\nvalue = [1, 4]'),\n",
              " Text(324.0, 9.883636363636384, 'entropy = 1.0\\nsamples = 2\\nvalue = [1, 1]'),\n",
              " Text(331.2, 9.883636363636384, 'entropy = 0.0\\nsamples = 3\\nvalue = [0, 3]')]"
            ]
          },
          "metadata": {
            "tags": []
          },
          "execution_count": 19
        },
        {
          "output_type": "display_data",
          "data": {
            "image/png": "[encoded data removed]",
            "text/plain": [
              "<Figure size 432x288 with 1 Axes>"
            ]
          },
          "metadata": {
            "tags": [],
            "needs_background": "light"
          }
        }
      ]
    },
    {
      "cell_type": "code",
      "metadata": {
        "id": "3sobrKUEK8e5"
      },
      "source": [
        ""
      ],
      "execution_count": null,
      "outputs": []
    }
  ]
}